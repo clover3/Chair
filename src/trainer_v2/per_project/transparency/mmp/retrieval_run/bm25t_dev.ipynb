{
 "cells": [
  {
   "cell_type": "code",
   "execution_count": null,
   "metadata": {
    "collapsed": true
   },
   "outputs": [],
   "source": [
    "import logging\n",
    "import sys\n",
    "\n",
    "from omegaconf import OmegaConf\n",
    "\n",
    "from adhoc.bm25_retriever import build_bm25_scoring_fn\n",
    "from adhoc.eval_helper.retreival_exp_helper import run_retrieval_eval_report_w_conf\n",
    "from adhoc.other.bm25_retriever_helper import get_tokenize_fn\n",
    "from adhoc.other.bm25t_retriever import BM25T_Retriever2\n",
    "from adhoc.test_code.inv_index_test import InvIndexReaderClient\n",
    "from dataset_specific.msmarco.passage.doc_indexing.retriever import load_bm25_resources, get_bm25_stats_from_conf\n",
    "from trainer_v2.chair_logging import c_log\n",
    "from trainer_v2.per_project.transparency.mmp.bm25t_helper import load_align_scores"
   ]
  },
  {
   "cell_type": "code",
   "execution_count": null,
   "outputs": [],
   "source": [
    "\n",
    "c_log.setLevel(logging.INFO)\n",
    "conf_path = \"confs/experiment_confs/bm25t/bm25t_table3_dev100_retrieval.yaml\"\n",
    "conf = OmegaConf.load(conf_path)\n",
    "\n",
    "table = load_align_scores(conf.table_path)\n",
    "bm25_conf = OmegaConf.load(conf.bm25conf_path)\n",
    "avdl, cdf, df, dl, inv_index = load_bm25_resources(bm25_conf)\n",
    "scoring_fn = build_bm25_scoring_fn(cdf, avdl)\n",
    "tokenize_fn = get_tokenize_fn(bm25_conf)\n",
    "\n",
    "\n"
   ],
   "metadata": {
    "collapsed": false,
    "pycharm": {
     "name": "#%%\n"
    }
   }
  },
  {
   "cell_type": "code",
   "execution_count": null,
   "outputs": [],
   "source": [],
   "metadata": {
    "collapsed": false,
    "pycharm": {
     "name": "#%%\n"
    }
   }
  }
 ],
 "metadata": {
  "kernelspec": {
   "display_name": "Python 3",
   "language": "python",
   "name": "python3"
  },
  "language_info": {
   "codemirror_mode": {
    "name": "ipython",
    "version": 2
   },
   "file_extension": ".py",
   "mimetype": "text/x-python",
   "name": "python",
   "nbconvert_exporter": "python",
   "pygments_lexer": "ipython2",
   "version": "2.7.6"
  }
 },
 "nbformat": 4,
 "nbformat_minor": 0
}