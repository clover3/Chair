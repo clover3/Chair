{
 "cells": [
  {
   "cell_type": "code",
   "execution_count": null,
   "id": "initial_id",
   "metadata": {
    "collapsed": true
   },
   "outputs": [],
   "source": [
    "import os\n",
    "\n",
    "from cpath import yconfig_dir_path\n",
    "from misc_lib import path_join\n",
    "from ptorch.splade_tree.utils.utils import get_initialize_config\n",
    "\n",
    "CONFIG_NAME = \"pep_toy\"\n",
    "CONFIG_PATH = path_join(yconfig_dir_path, \"hconfig\")\n",
    "\n",
    "\n"
   ]
  },
  {
   "cell_type": "code",
   "execution_count": null,
   "outputs": [],
   "source": [
    "\n",
    "from hydra import compose, initialize\n",
    "from omegaconf import OmegaConf\n",
    "conf_root = os.path.basename(yconfig_dir_path)\n",
    "config_path = \"../../../confs/hconfig\"\n",
    "with initialize(version_base=None, config_path=config_path):\n",
    "    cfg = compose(config_name=\"pep\")\n",
    "\n",
    "from ptorch.splade_tree.train import CONFIG_PATH, CONFIG_NAME\n",
    "exp_dict, config, init_dict, _ = get_initialize_config(cfg, train=True)\n"
   ],
   "metadata": {
    "collapsed": false
   },
   "id": "be81ee7ff38e6b17"
  },
  {
   "cell_type": "code",
   "execution_count": null,
   "outputs": [],
   "source": [
    "from ptorch.pep.get_pep_nseg_scoring import get_pepn_encode_fn\n",
    "\n",
    "encode_fn = get_pepn_encode_fn(config, init_dict)\n"
   ],
   "metadata": {
    "collapsed": false
   },
   "id": "c259a69dc5260869"
  },
  {
   "cell_type": "code",
   "execution_count": null,
   "outputs": [],
   "source": [
    "\n",
    "qd_list = [\n",
    "    (\"Where is the capital of France?\", \"The capital of France is Paris.\"),\n",
    "    (\"Where is the capital of France?\", \"The flag of the United States has 50 stars, each representing one of the 50 states in the country.\")\n",
    "]\n",
    "\n"
   ],
   "metadata": {
    "collapsed": false
   },
   "id": "37d8f889d8d28126"
  }
 ],
 "metadata": {
  "kernelspec": {
   "display_name": "Python 3",
   "language": "python",
   "name": "python3"
  },
  "language_info": {
   "codemirror_mode": {
    "name": "ipython",
    "version": 2
   },
   "file_extension": ".py",
   "mimetype": "text/x-python",
   "name": "python",
   "nbconvert_exporter": "python",
   "pygments_lexer": "ipython2",
   "version": "2.7.6"
  }
 },
 "nbformat": 4,
 "nbformat_minor": 5
}
